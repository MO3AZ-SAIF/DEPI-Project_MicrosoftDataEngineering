{
 "cells": [
  {
   "cell_type": "markdown",
   "metadata": {
    "application/vnd.databricks.v1+cell": {
     "cellMetadata": {
      "byteLimit": 2048000,
      "rowLimit": 10000
     },
     "inputWidgets": {},
     "nuid": "d28d491d-2622-4c0e-9410-b271a4f30f71",
     "showTitle": false,
     "title": ""
    }
   },
   "source": [
    "## Doing Transformation for all the tables\n"
   ]
  },
  {
   "cell_type": "code",
   "execution_count": null,
   "metadata": {
    "application/vnd.databricks.v1+cell": {
     "cellMetadata": {
      "byteLimit": 2048000,
      "rowLimit": 10000
     },
     "inputWidgets": {},
     "nuid": "d8f6efb5-2839-446f-aacd-886186cb5cca",
     "showTitle": false,
     "title": ""
    }
   },
   "outputs": [],
   "source": [
    "table_name = []\n",
    "\n",
    "for i in dbutils.fs.ls(\"mnt/bronzelayer/\"):\n",
    "    for j in i:\n",
    "        table_name.append(i.name.split('/')[0]+'.'+j.name.split('/')[0])"
   ]
  },
  {
   "cell_type": "code",
   "execution_count": null,
   "metadata": {
    "application/vnd.databricks.v1+cell": {
     "cellMetadata": {
      "byteLimit": 2048000,
      "rowLimit": 10000
     },
     "inputWidgets": {},
     "nuid": "50c46a60-81e2-4101-b517-113890e0fddf",
     "showTitle": false,
     "title": ""
    }
   },
   "outputs": [],
   "source": [
    "table_name"
   ]
  },
  {
   "cell_type": "code",
   "execution_count": null,
   "metadata": {
    "application/vnd.databricks.v1+cell": {
     "cellMetadata": {
      "byteLimit": 2048000,
      "rowLimit": 10000
     },
     "inputWidgets": {},
     "nuid": "4bc8e3ea-2766-4586-8368-f324c2e1e868",
     "showTitle": false,
     "title": ""
    }
   },
   "outputs": [],
   "source": [
    "from pyspark.sql.functions import from_utc_timestamp, date_format\n",
    "from pyspark.sql.types import TimestampType\n",
    "\n",
    "for i in table_name:\n",
    "    path = \"/mnt/bronzelayer/\"+ i.split('.')[0] +\"/\"+ + i.split('.')[1] + \"/\" + i.split('.')[1] + \".parquet\"\n",
    "    df = spark.read.format('parquet').load(path)\n",
    "    columns = df.columns\n",
    "\n",
    "    for col in columns:\n",
    "        if \"Date\" in col or \"date\" in col:\n",
    "            df = df.withColumn(col, \n",
    "                        date_format(\n",
    "                            from_utc_timestamp(\n",
    "                                df[col].cast(TimestampType()), \"UTC\"\n",
    "                                ), \"yyyy-MM-dd\"\n",
    "                            )\n",
    "                        )\n",
    "    \n",
    "    output_path = \"/mnt/silverlayer/\" + i.split('.')[0] + \"/\" + i.split('.')[1] + \"/\"\n",
    "    df.write.format(\"parquet\").mode(\"overwrite\").save(output_path)"
   ]
  },
  {
   "cell_type": "code",
   "execution_count": null,
   "metadata": {
    "application/vnd.databricks.v1+cell": {
     "cellMetadata": {
      "byteLimit": 2048000,
      "rowLimit": 10000
     },
     "inputWidgets": {},
     "nuid": "d20161ef-10ee-418f-81d7-90de244470d8",
     "showTitle": false,
     "title": ""
    }
   },
   "outputs": [],
   "source": [
    "display(df)"
   ]
  }
 ],
 "metadata": {
  "application/vnd.databricks.v1+notebook": {
   "dashboards": [],
   "language": "python",
   "notebookMetadata": {
    "pythonIndentUnit": 4
   },
   "notebookName": "bronze to silver",
   "widgets": {}
  },
  "kernelspec": {
   "display_name": "Python 3",
   "language": "python",
   "name": "python3"
  },
  "language_info": {
   "name": "python",
   "version": "3.11.4 (tags/v3.11.4:d2340ef, Jun  7 2023, 05:45:37) [MSC v.1934 64 bit (AMD64)]"
  },
  "vscode": {
   "interpreter": {
    "hash": "793e25807add4af491cca493526aa4a10fb5270a68eb90bde8b4378a08ec26cc"
   }
  }
 },
 "nbformat": 4,
 "nbformat_minor": 0
}
